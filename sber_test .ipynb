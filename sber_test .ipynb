{
 "cells": [
  {
   "cell_type": "markdown",
   "metadata": {
    "toc": true
   },
   "source": [
    "<h1>Table of Contents<span class=\"tocSkip\"></span></h1>\n",
    "<div class=\"toc\"><ul class=\"toc-item\"><li><span><a href=\"#Import-Libraries\" data-toc-modified-id=\"Import-Libraries-1\"><span class=\"toc-item-num\">1&nbsp;&nbsp;</span>Import Libraries</a></span></li><li><span><a href=\"#Import-Data\" data-toc-modified-id=\"Import-Data-2\"><span class=\"toc-item-num\">2&nbsp;&nbsp;</span>Import Data</a></span></li><li><span><a href=\"#Check-Data\" data-toc-modified-id=\"Check-Data-3\"><span class=\"toc-item-num\">3&nbsp;&nbsp;</span>Check Data</a></span><ul class=\"toc-item\"><li><span><a href=\"#Check-general-informatioin\" data-toc-modified-id=\"Check-general-informatioin-3.1\"><span class=\"toc-item-num\">3.1&nbsp;&nbsp;</span>Check general informatioin</a></span></li></ul></li><li><span><a href=\"#Data-analysis\" data-toc-modified-id=\"Data-analysis-4\"><span class=\"toc-item-num\">4&nbsp;&nbsp;</span>Data analysis</a></span><ul class=\"toc-item\"><li><span><a href=\"#Data-visualization\" data-toc-modified-id=\"Data-visualization-4.1\"><span class=\"toc-item-num\">4.1&nbsp;&nbsp;</span>Data visualization</a></span></li></ul></li><li><span><a href=\"#ML-model-building\" data-toc-modified-id=\"ML-model-building-5\"><span class=\"toc-item-num\">5&nbsp;&nbsp;</span>ML model building</a></span><ul class=\"toc-item\"><li><span><a href=\"#Data-preparation-for-models\" data-toc-modified-id=\"Data-preparation-for-models-5.1\"><span class=\"toc-item-num\">5.1&nbsp;&nbsp;</span>Data preparation for models</a></span></li><li><span><a href=\"#Popular-of-all-users-recommendation\" data-toc-modified-id=\"Popular-of-all-users-recommendation-5.2\"><span class=\"toc-item-num\">5.2&nbsp;&nbsp;</span>Popular of all users recommendation</a></span></li><li><span><a href=\"#Popular-by-every-user-recommendation\" data-toc-modified-id=\"Popular-by-every-user-recommendation-5.3\"><span class=\"toc-item-num\">5.3&nbsp;&nbsp;</span>Popular by every user recommendation</a></span></li></ul></li><li><span><a href=\"#Формирование-submit\" data-toc-modified-id=\"Формирование-submit-6\"><span class=\"toc-item-num\">6&nbsp;&nbsp;</span>Формирование submit</a></span></li><li><span><a href=\"#Вывод\" data-toc-modified-id=\"Вывод-7\"><span class=\"toc-item-num\">7&nbsp;&nbsp;</span>Вывод</a></span></li></ul></div>"
   ]
  },
  {
   "cell_type": "markdown",
   "metadata": {},
   "source": [
    "#  Import Libraries"
   ]
  },
  {
   "cell_type": "code",
   "execution_count": 1,
   "metadata": {},
   "outputs": [],
   "source": [
    "import pandas as pd \n",
    "import numpy as np \n",
    "import matplotlib.pyplot as plt\n",
    "from sklearn.metrics import f1_score"
   ]
  },
  {
   "cell_type": "markdown",
   "metadata": {},
   "source": [
    "# Import Data"
   ]
  },
  {
   "cell_type": "code",
   "execution_count": 2,
   "metadata": {},
   "outputs": [],
   "source": [
    "sample = pd.read_csv(r'C:\\Users\\vasni\\OneDrive\\Рабочий стол\\sber_market_test\\sample_submission.csv')#, sep=';')\n",
    "train = pd.read_csv(r'C:\\Users\\vasni\\OneDrive\\Рабочий стол\\sber_market_test\\train.csv')"
   ]
  },
  {
   "cell_type": "markdown",
   "metadata": {},
   "source": [
    "<div class=\"alert alert-info\">\n",
    "<h1>Комментарий  <a class=\"tocSkip\"></a></h1>\n",
    "Я рассмотрел несколько подходов к решению кейса.<br/>\n",
    "1 - можно выделить общий тренд покупок по всем пользователям и основывать рекомендательную систему на этих данных<br/>\n",
    "2 - рекомендовать к покупке товар, который преобретался определенным пользователем наибольшее кол-во раз<br/>\n",
    "Так же можно рекомендовать относительно последних покупок пользователя, однако я считаю оптимальным делать по минимальному тз и, как следующих шаг, проводить A/B тестирование, считать конверсию по рекомендательной корзине, этот шаг описан для общего представления о выбранном подходе и в данной работе рассмотрен не будет(за неимением такой возможности)\n",
    "</div>"
   ]
  },
  {
   "cell_type": "markdown",
   "metadata": {},
   "source": [
    "# Check Data"
   ]
  },
  {
   "cell_type": "markdown",
   "metadata": {},
   "source": [
    "## Check general informatioin "
   ]
  },
  {
   "cell_type": "code",
   "execution_count": 3,
   "metadata": {},
   "outputs": [],
   "source": [
    "def check_data(data):\n",
    "    display(data.head())\n",
    "    display(data.info())\n",
    "    display('Проверим пропущенные значения')\n",
    "    display(data.isna().sum())\n",
    "    display('Проверим уникальные значния в признаках')\n",
    "    display(data.nunique())"
   ]
  },
  {
   "cell_type": "code",
   "execution_count": 4,
   "metadata": {},
   "outputs": [
    {
     "data": {
      "text/html": [
       "<div>\n",
       "<style scoped>\n",
       "    .dataframe tbody tr th:only-of-type {\n",
       "        vertical-align: middle;\n",
       "    }\n",
       "\n",
       "    .dataframe tbody tr th {\n",
       "        vertical-align: top;\n",
       "    }\n",
       "\n",
       "    .dataframe thead th {\n",
       "        text-align: right;\n",
       "    }\n",
       "</style>\n",
       "<table border=\"1\" class=\"dataframe\">\n",
       "  <thead>\n",
       "    <tr style=\"text-align: right;\">\n",
       "      <th></th>\n",
       "      <th>user_id</th>\n",
       "      <th>order_completed_at</th>\n",
       "      <th>cart</th>\n",
       "    </tr>\n",
       "  </thead>\n",
       "  <tbody>\n",
       "    <tr>\n",
       "      <th>0</th>\n",
       "      <td>2</td>\n",
       "      <td>2015-03-22 09:25:46</td>\n",
       "      <td>399</td>\n",
       "    </tr>\n",
       "    <tr>\n",
       "      <th>1</th>\n",
       "      <td>2</td>\n",
       "      <td>2015-03-22 09:25:46</td>\n",
       "      <td>14</td>\n",
       "    </tr>\n",
       "    <tr>\n",
       "      <th>2</th>\n",
       "      <td>2</td>\n",
       "      <td>2015-03-22 09:25:46</td>\n",
       "      <td>198</td>\n",
       "    </tr>\n",
       "    <tr>\n",
       "      <th>3</th>\n",
       "      <td>2</td>\n",
       "      <td>2015-03-22 09:25:46</td>\n",
       "      <td>88</td>\n",
       "    </tr>\n",
       "    <tr>\n",
       "      <th>4</th>\n",
       "      <td>2</td>\n",
       "      <td>2015-03-22 09:25:46</td>\n",
       "      <td>157</td>\n",
       "    </tr>\n",
       "  </tbody>\n",
       "</table>\n",
       "</div>"
      ],
      "text/plain": [
       "   user_id   order_completed_at  cart\n",
       "0        2  2015-03-22 09:25:46   399\n",
       "1        2  2015-03-22 09:25:46    14\n",
       "2        2  2015-03-22 09:25:46   198\n",
       "3        2  2015-03-22 09:25:46    88\n",
       "4        2  2015-03-22 09:25:46   157"
      ]
     },
     "metadata": {},
     "output_type": "display_data"
    },
    {
     "name": "stdout",
     "output_type": "stream",
     "text": [
      "<class 'pandas.core.frame.DataFrame'>\n",
      "RangeIndex: 3123064 entries, 0 to 3123063\n",
      "Data columns (total 3 columns):\n",
      " #   Column              Dtype \n",
      "---  ------              ----- \n",
      " 0   user_id             int64 \n",
      " 1   order_completed_at  object\n",
      " 2   cart                int64 \n",
      "dtypes: int64(2), object(1)\n",
      "memory usage: 71.5+ MB\n"
     ]
    },
    {
     "data": {
      "text/plain": [
       "None"
      ]
     },
     "metadata": {},
     "output_type": "display_data"
    },
    {
     "data": {
      "text/plain": [
       "'Проверим пропущенные значения'"
      ]
     },
     "metadata": {},
     "output_type": "display_data"
    },
    {
     "data": {
      "text/plain": [
       "user_id               0\n",
       "order_completed_at    0\n",
       "cart                  0\n",
       "dtype: int64"
      ]
     },
     "metadata": {},
     "output_type": "display_data"
    },
    {
     "data": {
      "text/plain": [
       "'Проверим уникальные значния в признаках'"
      ]
     },
     "metadata": {},
     "output_type": "display_data"
    },
    {
     "data": {
      "text/plain": [
       "user_id                20000\n",
       "order_completed_at    208155\n",
       "cart                     881\n",
       "dtype: int64"
      ]
     },
     "metadata": {},
     "output_type": "display_data"
    }
   ],
   "source": [
    "check_data(train)"
   ]
  },
  {
   "cell_type": "code",
   "execution_count": 5,
   "metadata": {},
   "outputs": [
    {
     "data": {
      "text/plain": [
       "1    395855\n",
       "0    394594\n",
       "Name: target, dtype: int64"
      ]
     },
     "execution_count": 5,
     "metadata": {},
     "output_type": "execute_result"
    }
   ],
   "source": [
    "sample['target'].value_counts()"
   ]
  },
  {
   "cell_type": "code",
   "execution_count": 6,
   "metadata": {},
   "outputs": [],
   "source": [
    "train['order_completed_at'] = pd.to_datetime(train['order_completed_at'], format=\"%Y-%m-%d %H:%M:%S\")"
   ]
  },
  {
   "cell_type": "markdown",
   "metadata": {},
   "source": [
    "# Data analysis"
   ]
  },
  {
   "cell_type": "markdown",
   "metadata": {},
   "source": [
    "<div class=\"alert alert-info\">\n",
    "<h1>Комментарий  <a class=\"tocSkip\"></a></h1>\n",
    "Посмотрим на общую тенденцую покупок\n",
    "</div>"
   ]
  },
  {
   "cell_type": "code",
   "execution_count": 7,
   "metadata": {},
   "outputs": [],
   "source": [
    "def data_analysis(data):\n",
    "    display('Товары, которые чаще всего попадали в корзину с 2015 по 2020')\n",
    "    display('Среднее по каждому товару', round(data['cart'].value_counts().mean(), 2))\n",
    "    general_trend = data['cart'].value_counts().head()\n",
    "    display(general_trend)\n",
    "    display('Общая тенденция покупок с 2015 по 2020')\n",
    "    general_trend = data.groupby('order_completed_at')['cart'].count().to_frame()\n",
    "    plt.figure()\n",
    "    general_trend.plot()\n",
    "    plt.show()"
   ]
  },
  {
   "cell_type": "code",
   "execution_count": 8,
   "metadata": {},
   "outputs": [
    {
     "data": {
      "text/plain": [
       "'Товары, которые чаще всего попадали в корзину с 2015 по 2020'"
      ]
     },
     "metadata": {},
     "output_type": "display_data"
    },
    {
     "data": {
      "text/plain": [
       "'Среднее по каждому товару'"
      ]
     },
     "metadata": {},
     "output_type": "display_data"
    },
    {
     "data": {
      "text/plain": [
       "3544.91"
      ]
     },
     "metadata": {},
     "output_type": "display_data"
    },
    {
     "data": {
      "text/plain": [
       "57     108877\n",
       "14      93957\n",
       "61      91543\n",
       "398     81694\n",
       "23      71837\n",
       "Name: cart, dtype: int64"
      ]
     },
     "metadata": {},
     "output_type": "display_data"
    },
    {
     "data": {
      "text/plain": [
       "'Общая тенденция покупок с 2015 по 2020'"
      ]
     },
     "metadata": {},
     "output_type": "display_data"
    },
    {
     "data": {
      "text/plain": [
       "<Figure size 432x288 with 0 Axes>"
      ]
     },
     "metadata": {},
     "output_type": "display_data"
    },
    {
     "data": {
      "image/png": "[encoded data removed]",
      "text/plain": [
       "<Figure size 432x288 with 1 Axes>"
      ]
     },
     "metadata": {
      "needs_background": "light"
     },
     "output_type": "display_data"
    }
   ],
   "source": [
    "data_analysis(train)"
   ]
  },
  {
   "cell_type": "markdown",
   "metadata": {},
   "source": [
    "<div class=\"alert alert-info\">\n",
    "<h1>Комментарий  <a class=\"tocSkip\"></a></h1>\n",
    "Видим общую тенденцию к росту<br/>\n",
    "Проверим динамику наиболее продаваемых товаров за все время\n",
    "</div>"
   ]
  },
  {
   "cell_type": "code",
   "execution_count": 10,
   "metadata": {},
   "outputs": [],
   "source": [
    "visualization_data = train['cart'].value_counts().head().to_frame()\n",
    "index = visualization_data.index.values.tolist()"
   ]
  },
  {
   "cell_type": "code",
   "execution_count": 11,
   "metadata": {},
   "outputs": [],
   "source": [
    "visualization_by_year = train.copy()\n",
    "visualization_by_year['year'] = visualization_by_year['order_completed_at'].dt.year\n",
    "visualization_by_year = visualization_by_year.drop(['user_id', 'order_completed_at'], axis=1).set_index('year')"
   ]
  },
  {
   "cell_type": "code",
   "execution_count": 12,
   "metadata": {},
   "outputs": [
    {
     "data": {
      "text/html": [
       "<div>\n",
       "<style scoped>\n",
       "    .dataframe tbody tr th:only-of-type {\n",
       "        vertical-align: middle;\n",
       "    }\n",
       "\n",
       "    .dataframe tbody tr th {\n",
       "        vertical-align: top;\n",
       "    }\n",
       "\n",
       "    .dataframe thead th {\n",
       "        text-align: right;\n",
       "    }\n",
       "</style>\n",
       "<table border=\"1\" class=\"dataframe\">\n",
       "  <thead>\n",
       "    <tr style=\"text-align: right;\">\n",
       "      <th></th>\n",
       "      <th>cart</th>\n",
       "    </tr>\n",
       "    <tr>\n",
       "      <th>year</th>\n",
       "      <th></th>\n",
       "    </tr>\n",
       "  </thead>\n",
       "  <tbody>\n",
       "    <tr>\n",
       "      <th>2015</th>\n",
       "      <td>52</td>\n",
       "    </tr>\n",
       "    <tr>\n",
       "      <th>2016</th>\n",
       "      <td>1375</td>\n",
       "    </tr>\n",
       "    <tr>\n",
       "      <th>2017</th>\n",
       "      <td>8938</td>\n",
       "    </tr>\n",
       "    <tr>\n",
       "      <th>2018</th>\n",
       "      <td>25464</td>\n",
       "    </tr>\n",
       "    <tr>\n",
       "      <th>2019</th>\n",
       "      <td>603398</td>\n",
       "    </tr>\n",
       "    <tr>\n",
       "      <th>2020</th>\n",
       "      <td>2483837</td>\n",
       "    </tr>\n",
       "  </tbody>\n",
       "</table>\n",
       "</div>"
      ],
      "text/plain": [
       "         cart\n",
       "year         \n",
       "2015       52\n",
       "2016     1375\n",
       "2017     8938\n",
       "2018    25464\n",
       "2019   603398\n",
       "2020  2483837"
      ]
     },
     "execution_count": 12,
     "metadata": {},
     "output_type": "execute_result"
    }
   ],
   "source": [
    "visualization_by_year.groupby('year').count()"
   ]
  },
  {
   "cell_type": "markdown",
   "metadata": {},
   "source": [
    "## Data visualization"
   ]
  },
  {
   "cell_type": "code",
   "execution_count": 13,
   "metadata": {},
   "outputs": [
    {
     "data": {
      "text/plain": [
       "'Динамика продаж товара с индексом 57'"
      ]
     },
     "metadata": {},
     "output_type": "display_data"
    },
    {
     "data": {
      "text/plain": [
       "<Figure size 432x288 with 0 Axes>"
      ]
     },
     "metadata": {},
     "output_type": "display_data"
    },
    {
     "data": {
      "image/png": "[encoded data removed]",
      "text/plain": [
       "<Figure size 432x288 with 1 Axes>"
      ]
     },
     "metadata": {
      "needs_background": "light"
     },
     "output_type": "display_data"
    },
    {
     "data": {
      "text/plain": [
       "'Динамика продаж товара с индексом 14'"
      ]
     },
     "metadata": {},
     "output_type": "display_data"
    },
    {
     "data": {
      "text/plain": [
       "<Figure size 432x288 with 0 Axes>"
      ]
     },
     "metadata": {},
     "output_type": "display_data"
    },
    {
     "data": {
      "image/png": "[encoded data removed]",
      "text/plain": [
       "<Figure size 432x288 with 1 Axes>"
      ]
     },
     "metadata": {
      "needs_background": "light"
     },
     "output_type": "display_data"
    },
    {
     "data": {
      "text/plain": [
       "'Динамика продаж товара с индексом 61'"
      ]
     },
     "metadata": {},
     "output_type": "display_data"
    },
    {
     "data": {
      "text/plain": [
       "<Figure size 432x288 with 0 Axes>"
      ]
     },
     "metadata": {},
     "output_type": "display_data"
    },
    {
     "data": {
      "image/png": "[encoded data removed]",
      "text/plain": [
       "<Figure size 432x288 with 1 Axes>"
      ]
     },
     "metadata": {
      "needs_background": "light"
     },
     "output_type": "display_data"
    },
    {
     "data": {
      "text/plain": [
       "'Динамика продаж товара с индексом 398'"
      ]
     },
     "metadata": {},
     "output_type": "display_data"
    },
    {
     "data": {
      "text/plain": [
       "<Figure size 432x288 with 0 Axes>"
      ]
     },
     "metadata": {},
     "output_type": "display_data"
    },
    {
     "data": {
      "image/png": "[encoded data removed]",
      "text/plain": [
       "<Figure size 432x288 with 1 Axes>"
      ]
     },
     "metadata": {
      "needs_background": "light"
     },
     "output_type": "display_data"
    },
    {
     "data": {
      "text/plain": [
       "'Динамика продаж товара с индексом 23'"
      ]
     },
     "metadata": {},
     "output_type": "display_data"
    },
    {
     "data": {
      "text/plain": [
       "<Figure size 432x288 with 0 Axes>"
      ]
     },
     "metadata": {},
     "output_type": "display_data"
    },
    {
     "data": {
      "image/png": "[encoded data removed]",
      "text/plain": [
       "<Figure size 432x288 with 1 Axes>"
      ]
     },
     "metadata": {
      "needs_background": "light"
     },
     "output_type": "display_data"
    }
   ],
   "source": [
    "for ind in index:\n",
    "    display(f'Динамика продаж товара с индексом {ind}')\n",
    "    plt.figure()\n",
    "    visualization_by_year.loc[visualization_by_year['cart'] == ind].groupby('year').count().plot()\n",
    "    plt.show()"
   ]
  },
  {
   "cell_type": "markdown",
   "metadata": {},
   "source": [
    "<div class=\"alert alert-info\">\n",
    "<h1>Комментарий  <a class=\"tocSkip\"></a></h1>\n",
    "По наиболее продаваемым категориям товаров видим экспоненциальный рост<br/>\n",
    "По исходным данным (и по общей тенденции рынка) нет предпосылок для снижения продаж по этим товарам, значит топ продоваемых можно рекомендовать к продаже \n",
    "</div>"
   ]
  },
  {
   "cell_type": "markdown",
   "metadata": {},
   "source": [
    "# ML model building "
   ]
  },
  {
   "cell_type": "markdown",
   "metadata": {},
   "source": [
    "## Data preparation for models"
   ]
  },
  {
   "cell_type": "code",
   "execution_count": 14,
   "metadata": {},
   "outputs": [],
   "source": [
    "class Data_preparation_models:\n",
    "    \"\"\"Класс подготавливает данные, делает их предобработку, и возвращает результат, который оценивается в следующих шагах\"\"\"\n",
    "    def __init__(self, train):\n",
    "        \"\"\"\"Определяет все датафреймы\"\"\"\n",
    "        self.train = train\n",
    "\n",
    "    def train_data_preparation(self, data):\n",
    "        ''''По этим данным будем предсказывать последнюю покупку'''\n",
    "        #выбираем последнию дату покупки у каждого юзера\n",
    "        data_oflast_purchase = data.groupby([\"user_id\"])[\"order_completed_at\"].max().to_frame().reset_index()\n",
    "        #создаем столбец, заполняем его единицами,чтобы потом сопоставить с полным датафреймом\n",
    "        data_oflast_purchase['last_pur_day'] = 1\n",
    "    \n",
    "        # соединяем основной дф с последним днем, в train оставляем все дни, кроме последнего-по каждому юзеру\n",
    "        train = pd.merge(data, data_oflast_purchase, on=[\"order_completed_at\", \"user_id\"], how=\"left\")\n",
    "        train = train[train[\"last_pur_day\"] != 1]\n",
    "        train = train.drop([\"last_pur_day\"], axis=1)\n",
    "    \n",
    "    \n",
    "        data_oflast_purchase = data_oflast_purchase.drop(['last_pur_day'], axis=1)\n",
    "        last_cart_by_user = pd.merge(data_oflast_purchase, data, on=[\"user_id\", \"order_completed_at\"], how=\"left\")\n",
    "        last_cart_by_user['count'] = 1\n",
    "        #тут будут все покупки юзера без даты(все товары,которые он когда либо покупал)\n",
    "        all_purchases = data.groupby(\"user_id\")[\"cart\"].unique().to_frame().reset_index().explode(\"cart\")\n",
    "    \n",
    "        target = pd.merge(all_purchases, last_cart_by_user.drop(columns=[\"order_completed_at\"]), on=[\"user_id\",\"cart\"], how=\"left\")\n",
    "        target.fillna(0, inplace=True)\n",
    "        target['count'] = target['count'].astype(int)\n",
    "        target = target.rename(columns={\"count\":\"target\"})\n",
    "        \n",
    "        return train, target\n",
    "    \n",
    "    def most_popular_in_common(self, train, target, k):\n",
    "        ''''Будет рекомендовать наиболее популярные товары, k - кол-во популярных товаров, перебирать как гиперпараметр'''     \n",
    "        most_popular = train['cart'].value_counts().head(k).to_frame()\n",
    "        result = target.copy()\n",
    "        result['predict'] = np.where(result.cart.isin(most_popular.index), 1, 0)\n",
    "    \n",
    "        return result\n",
    "    \n",
    "    def most_popular_in_own_history(self, train, target, k):\n",
    "        '''Будет рекомендовать те покупки, которые юзер чаще всего совершал ранее, k - кол-во популярных товаров, перебирать как гиперпараметр'''\n",
    "        most_popular = train.groupby(\"user_id\")[\"cart\"].value_counts().to_frame().rename(columns={\"cart\":\"count\"})\\\n",
    "            .groupby(\"user_id\")[\"count\"].head(k).to_frame().reset_index().drop(columns=[\"count\"])\n",
    "        most_popular['predict'] = 1\n",
    "        result = target.copy()\n",
    "        result = result.merge(most_popular, how='left', on=['user_id', 'cart'])\n",
    "        result['predict'] = result['predict'].fillna(0).astype(int)\n",
    "    \n",
    "        return result"
   ]
  },
  {
   "cell_type": "code",
   "execution_count": 15,
   "metadata": {},
   "outputs": [],
   "source": [
    "research = Data_preparation_models(train)"
   ]
  },
  {
   "cell_type": "code",
   "execution_count": 16,
   "metadata": {},
   "outputs": [],
   "source": [
    "train, target = research.train_data_preparation(train)"
   ]
  },
  {
   "cell_type": "markdown",
   "metadata": {},
   "source": [
    "## Popular of all users recommendation"
   ]
  },
  {
   "cell_type": "code",
   "execution_count": 17,
   "metadata": {},
   "outputs": [
    {
     "data": {
      "text/html": [
       "<div>\n",
       "<style scoped>\n",
       "    .dataframe tbody tr th:only-of-type {\n",
       "        vertical-align: middle;\n",
       "    }\n",
       "\n",
       "    .dataframe tbody tr th {\n",
       "        vertical-align: top;\n",
       "    }\n",
       "\n",
       "    .dataframe thead th {\n",
       "        text-align: right;\n",
       "    }\n",
       "</style>\n",
       "<table border=\"1\" class=\"dataframe\">\n",
       "  <thead>\n",
       "    <tr style=\"text-align: right;\">\n",
       "      <th></th>\n",
       "      <th>0</th>\n",
       "    </tr>\n",
       "  </thead>\n",
       "  <tbody>\n",
       "    <tr>\n",
       "      <th>105</th>\n",
       "      <td>0.431511</td>\n",
       "    </tr>\n",
       "  </tbody>\n",
       "</table>\n",
       "</div>"
      ],
      "text/plain": [
       "            0\n",
       "105  0.431511"
      ]
     },
     "metadata": {},
     "output_type": "display_data"
    }
   ],
   "source": [
    "best_results = {}\n",
    "for i in range(5, 1000, 100):\n",
    "    train_res = research.most_popular_in_common(train, target, k = i)\n",
    "    best_results[i]= [f1_score(train_res[\"target\"], train_res[\"predict\"])]\n",
    "display(pd.DataFrame(best_results).max().to_frame().sort_values(0, ascending=False).head(1))"
   ]
  },
  {
   "cell_type": "code",
   "execution_count": 18,
   "metadata": {},
   "outputs": [],
   "source": [
    "train_res_test = research.most_popular_in_common(train, target, k = 105)"
   ]
  },
  {
   "cell_type": "code",
   "execution_count": 19,
   "metadata": {},
   "outputs": [
    {
     "data": {
      "text/plain": [
       "0.43151129288264894"
      ]
     },
     "execution_count": 19,
     "metadata": {},
     "output_type": "execute_result"
    }
   ],
   "source": [
    "f1_score(train_res_test[\"target\"], train_res_test[\"predict\"])"
   ]
  },
  {
   "cell_type": "markdown",
   "metadata": {},
   "source": [
    "<div class=\"alert alert-info\">\n",
    "<h1>Комментарий  <a class=\"tocSkip\"></a></h1>\n",
    "Проверим модель на вменяемость, заполним предикт рандомно 1 или 0\n",
    "</div>"
   ]
  },
  {
   "cell_type": "code",
   "execution_count": 20,
   "metadata": {},
   "outputs": [],
   "source": [
    "train_res_test['predict'] = np.random.randint(0, 2, train_res_test.shape[0])"
   ]
  },
  {
   "cell_type": "code",
   "execution_count": 21,
   "metadata": {},
   "outputs": [
    {
     "data": {
      "text/plain": [
       "0.33526689043520513"
      ]
     },
     "execution_count": 21,
     "metadata": {},
     "output_type": "execute_result"
    }
   ],
   "source": [
    "f1_score(train_res_test[\"target\"], train_res_test[\"predict\"])"
   ]
  },
  {
   "cell_type": "code",
   "execution_count": 22,
   "metadata": {},
   "outputs": [
    {
     "data": {
      "text/plain": [
       "0    559119\n",
       "1    558481\n",
       "Name: predict, dtype: int64"
      ]
     },
     "execution_count": 22,
     "metadata": {},
     "output_type": "execute_result"
    }
   ],
   "source": [
    "train_res_test[\"predict\"].value_counts()"
   ]
  },
  {
   "cell_type": "markdown",
   "metadata": {},
   "source": [
    "<div class=\"alert alert-info\">\n",
    "<h1>Комментарий  <a class=\"tocSkip\"></a></h1>\n",
    "Тут можно было бы перебирать grid search с scooring = f1, но я решил реализовать простой цикл перебора, чтобы показать понимание процесса.<br/>\n",
    "Вывод:<br/>\n",
    "    Лучшее значение f1 меры имеем на 500 товарах, в смысле если рекомендовать 500 топ товаров - то мы будем получать значение f1 меры равно 0.419\n",
    "</div>"
   ]
  },
  {
   "cell_type": "markdown",
   "metadata": {},
   "source": [
    "## Popular by every user recommendation"
   ]
  },
  {
   "cell_type": "code",
   "execution_count": 23,
   "metadata": {},
   "outputs": [
    {
     "data": {
      "text/html": [
       "<div>\n",
       "<style scoped>\n",
       "    .dataframe tbody tr th:only-of-type {\n",
       "        vertical-align: middle;\n",
       "    }\n",
       "\n",
       "    .dataframe tbody tr th {\n",
       "        vertical-align: top;\n",
       "    }\n",
       "\n",
       "    .dataframe thead th {\n",
       "        text-align: right;\n",
       "    }\n",
       "</style>\n",
       "<table border=\"1\" class=\"dataframe\">\n",
       "  <thead>\n",
       "    <tr style=\"text-align: right;\">\n",
       "      <th></th>\n",
       "      <th>0</th>\n",
       "    </tr>\n",
       "  </thead>\n",
       "  <tbody>\n",
       "    <tr>\n",
       "      <th>5</th>\n",
       "      <td>0.401904</td>\n",
       "    </tr>\n",
       "  </tbody>\n",
       "</table>\n",
       "</div>"
      ],
      "text/plain": [
       "          0\n",
       "5  0.401904"
      ]
     },
     "metadata": {},
     "output_type": "display_data"
    }
   ],
   "source": [
    "best_results_own = {}\n",
    "for i in range(5, 50, 5):\n",
    "    train_res_1 = research.most_popular_in_own_history(train, target, k = i)\n",
    "    best_results_own[i]= [f1_score(train_res[\"target\"], train_res[\"predict\"])]\n",
    "\n",
    "display(pd.DataFrame(best_results_own).max().to_frame().sort_values(0, ascending=False).head(1))"
   ]
  },
  {
   "cell_type": "markdown",
   "metadata": {},
   "source": [
    "# Формирование submit "
   ]
  },
  {
   "cell_type": "code",
   "execution_count": 24,
   "metadata": {},
   "outputs": [],
   "source": [
    "sample = pd.read_csv(r'C:\\Users\\vasni\\OneDrive\\Рабочий стол\\sber_market_test\\sample_submission.csv')"
   ]
  },
  {
   "cell_type": "code",
   "execution_count": 25,
   "metadata": {},
   "outputs": [],
   "source": [
    "sample[['id', 'cart']] = pd.DataFrame(sample.id.str.split(';').tolist())"
   ]
  },
  {
   "cell_type": "code",
   "execution_count": 26,
   "metadata": {},
   "outputs": [],
   "source": [
    "sample = sample.drop(['target'], axis=1)"
   ]
  },
  {
   "cell_type": "markdown",
   "metadata": {},
   "source": [
    "<div class=\"alert alert-info\">\n",
    "<h1>Комментарий  <a class=\"tocSkip\"></a></h1>\n",
    "Применим алгоритм, который показал наибольшую точность, по истории всех покупок\n",
    "</div>"
   ]
  },
  {
   "cell_type": "code",
   "execution_count": 27,
   "metadata": {},
   "outputs": [],
   "source": [
    "def most_popular_in_common(submit, k):\n",
    "        ''''Будет рекомендовать наиболее популярные товары, k - кол-во популярных товаров, перебирать как гиперпараметр'''     \n",
    "        most_popular = sample['cart'].value_counts().head(k).to_frame()\n",
    "        submit['target'] = np.where(submit.cart.isin(most_popular.index), 1, 0)\n",
    "    \n",
    "        return submit"
   ]
  },
  {
   "cell_type": "code",
   "execution_count": 28,
   "metadata": {},
   "outputs": [],
   "source": [
    "submit = most_popular_in_common(sample, k=30)"
   ]
  },
  {
   "cell_type": "markdown",
   "metadata": {},
   "source": [
    "<div class=\"alert alert-info\">\n",
    "<h1>Комментарий  <a class=\"tocSkip\"></a></h1>\n",
    "k подбирал относительно того, что на тренировочной выборке лучший результат у 100, при соотненении размеров выборки получил 30\n",
    "    <br/>\n",
    "классы сбалансированы при k = 55\n",
    "</div>"
   ]
  },
  {
   "cell_type": "code",
   "execution_count": 29,
   "metadata": {},
   "outputs": [
    {
     "data": {
      "text/html": [
       "<div>\n",
       "<style scoped>\n",
       "    .dataframe tbody tr th:only-of-type {\n",
       "        vertical-align: middle;\n",
       "    }\n",
       "\n",
       "    .dataframe tbody tr th {\n",
       "        vertical-align: top;\n",
       "    }\n",
       "\n",
       "    .dataframe thead th {\n",
       "        text-align: right;\n",
       "    }\n",
       "</style>\n",
       "<table border=\"1\" class=\"dataframe\">\n",
       "  <thead>\n",
       "    <tr style=\"text-align: right;\">\n",
       "      <th></th>\n",
       "      <th>id</th>\n",
       "      <th>cart</th>\n",
       "      <th>target</th>\n",
       "    </tr>\n",
       "  </thead>\n",
       "  <tbody>\n",
       "    <tr>\n",
       "      <th>0</th>\n",
       "      <td>0</td>\n",
       "      <td>133</td>\n",
       "      <td>0</td>\n",
       "    </tr>\n",
       "    <tr>\n",
       "      <th>1</th>\n",
       "      <td>0</td>\n",
       "      <td>5</td>\n",
       "      <td>1</td>\n",
       "    </tr>\n",
       "    <tr>\n",
       "      <th>2</th>\n",
       "      <td>0</td>\n",
       "      <td>10</td>\n",
       "      <td>0</td>\n",
       "    </tr>\n",
       "    <tr>\n",
       "      <th>3</th>\n",
       "      <td>0</td>\n",
       "      <td>396</td>\n",
       "      <td>0</td>\n",
       "    </tr>\n",
       "    <tr>\n",
       "      <th>4</th>\n",
       "      <td>0</td>\n",
       "      <td>14</td>\n",
       "      <td>1</td>\n",
       "    </tr>\n",
       "    <tr>\n",
       "      <th>...</th>\n",
       "      <td>...</td>\n",
       "      <td>...</td>\n",
       "      <td>...</td>\n",
       "    </tr>\n",
       "    <tr>\n",
       "      <th>790444</th>\n",
       "      <td>19998</td>\n",
       "      <td>26</td>\n",
       "      <td>0</td>\n",
       "    </tr>\n",
       "    <tr>\n",
       "      <th>790445</th>\n",
       "      <td>19998</td>\n",
       "      <td>31</td>\n",
       "      <td>0</td>\n",
       "    </tr>\n",
       "    <tr>\n",
       "      <th>790446</th>\n",
       "      <td>19998</td>\n",
       "      <td>29</td>\n",
       "      <td>0</td>\n",
       "    </tr>\n",
       "    <tr>\n",
       "      <th>790447</th>\n",
       "      <td>19998</td>\n",
       "      <td>798</td>\n",
       "      <td>1</td>\n",
       "    </tr>\n",
       "    <tr>\n",
       "      <th>790448</th>\n",
       "      <td>19998</td>\n",
       "      <td>415</td>\n",
       "      <td>0</td>\n",
       "    </tr>\n",
       "  </tbody>\n",
       "</table>\n",
       "<p>790449 rows × 3 columns</p>\n",
       "</div>"
      ],
      "text/plain": [
       "           id cart  target\n",
       "0           0  133       0\n",
       "1           0    5       1\n",
       "2           0   10       0\n",
       "3           0  396       0\n",
       "4           0   14       1\n",
       "...       ...  ...     ...\n",
       "790444  19998   26       0\n",
       "790445  19998   31       0\n",
       "790446  19998   29       0\n",
       "790447  19998  798       1\n",
       "790448  19998  415       0\n",
       "\n",
       "[790449 rows x 3 columns]"
      ]
     },
     "execution_count": 29,
     "metadata": {},
     "output_type": "execute_result"
    }
   ],
   "source": [
    "submit"
   ]
  },
  {
   "cell_type": "markdown",
   "metadata": {},
   "source": [
    "# Вывод"
   ]
  },
  {
   "cell_type": "markdown",
   "metadata": {},
   "source": [
    "<div class=\"alert alert-info\">\n",
    "<h1>Комментарий  <a class=\"tocSkip\"></a></h1>\n",
    "В ходе проделаной работы были разработаны две системы рекомендательные системы<br/>\n",
    "    <br/>\n",
    "Рекомендовать топ покупаемых товаров в целом: лучшее значение f1 меры = 0.431<br/>\n",
    "Рекомендовать топ покупаемых товаров в личной истории покупок: лучшее значение f1 меры = 0.401<br/>\n",
    "    <br/>\n",
    "    f1 мера была выбрана как наиболее оптимальная, чтобы определеить среднее между recall & precision<br/>\n",
    "    Дальнейшая работа предполагает более тщатаельной проработки тенденций, проведение a\\b тестов.<br/>\n",
    "    <br/>\n",
    "    Классы в работе были использованы исходя из предположения, что проект будет развиваться и должен быть поддерживаемым, понятно, что для такой короткой работы в общем виде классы не нужны\n",
    "</div>"
   ]
  }
 ],
 "metadata": {
  "kernelspec": {
   "display_name": "Python 3",
   "language": "python",
   "name": "python3"
  },
  "language_info": {
   "codemirror_mode": {
    "name": "ipython",
    "version": 3
   },
   "file_extension": ".py",
   "mimetype": "text/x-python",
   "name": "python",
   "nbconvert_exporter": "python",
   "pygments_lexer": "ipython3",
   "version": "3.7.4"
  },
  "toc": {
   "base_numbering": 1,
   "nav_menu": {},
   "number_sections": true,
   "sideBar": true,
   "skip_h1_title": false,
   "title_cell": "Table of Contents",
   "title_sidebar": "Contents",
   "toc_cell": true,
   "toc_position": {
    "height": "calc(100% - 180px)",
    "left": "10px",
    "top": "150px",
    "width": "308.188px"
   },
   "toc_section_display": true,
   "toc_window_display": true
  }
 },
 "nbformat": 4,
 "nbformat_minor": 2
}
